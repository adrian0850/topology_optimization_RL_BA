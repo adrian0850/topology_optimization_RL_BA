{
 "cells": [
  {
   "cell_type": "code",
   "execution_count": 4,
   "metadata": {},
   "outputs": [],
   "source": [
    "import time\n",
    "import os\n",
    "import random\n",
    "import pathlib\n",
    "import numpy as np                                                \n",
    "import matplotlib.pyplot as plt                                   \n",
    "import autograd, autograd.core, autograd.extend, autograd.tracer  \n",
    "import autograd.numpy as anp      \n",
    "import scipy, scipy.ndimage, scipy.sparse, scipy.sparse.linalg    \n",
    "\n",
    "                                                     \n",
    "import gymnasium as gym\n",
    "from gymnasium import spaces\n",
    "\n",
    "from stable_baselines3 import PPO\n",
    "from stable_baselines3.common.env_checker import check_env\n",
    "from stable_baselines3.common.monitor import Monitor\n",
    "from stable_baselines3.common.results_plotter import load_results, ts2xy\n",
    "from stable_baselines3.common.callbacks import BaseCallback\n",
    "from stable_baselines3.common import results_plotter\n",
    "from stable_baselines3.common.vec_env import DummyVecEnv\n",
    "from stable_baselines3.common.vec_env import SubprocVecEnv\n",
    "from stable_baselines3.common.vec_env import VecMonitor\n",
    "\n",
    "%load_ext tensorboard\n",
    "import tensorflow as tf\n",
    "import datetime\n",
    "\n",
    "# import the FEA Solver created by Nathan Brown: https://github.com/nkbrown503/PhDResearch/tree/main\n",
    "from FEA_Solver import *\n",
    "\n",
    "\n"
   ]
  },
  {
   "cell_type": "code",
   "execution_count": null,
   "metadata": {},
   "outputs": [],
   "source": [
    "class ObjectView(object):\n",
    "    def __init__(self, d): self.__dict__ = d\n",
    "\n",
    "\n",
    "# Manage the problem setup parameters   \n",
    "def get_args(normals, forces, density=1e-4):\n",
    "    width = normals.shape[0] - 1\n",
    "    height = normals.shape[1] - 1\n",
    "    \n",
    "    fixdofs = np.flatnonzero(normals.ravel())\n",
    "    alldofs = np.arange(2 * (width + 1) * (height + 1))\n",
    "    freedofs = np.sort(list(set(alldofs) - set(fixdofs)))\n",
    "   \n",
    "    params = {\n",
    "      # material properties\n",
    "      'young': 1, 'young_min': 1e-9, 'poisson': 0.3, 'g': 0,\n",
    "      # constraints\n",
    "      'density': density, 'xmin': 0.001, 'xmax': 1.0,\n",
    "      # input parameters\n",
    "      'nelx': width, 'nely': height, 'mask': 1, 'penal': 3.0, 'filter_width': 1,\n",
    "      'freedofs': freedofs, 'fixdofs': fixdofs, 'forces': forces.ravel(),\n",
    "      # optimization parameters\n",
    "      'opt_steps': 80, 'print_every': 10}\n",
    "    return ObjectView(params)\n",
    "\n",
    "\n",
    "# textbook beam example\n",
    "def mbb_beam(width=6, height=6, density=1e-4, y=1, x=0, rd=-1):  \n",
    "    normals = np.zeros((width + 1, height + 1, 2))\n",
    "    normals[0, 0, x] = 1\n",
    "    normals[0, 0, y] = 1\n",
    "    normals[0, -1, x] = 1\n",
    "    normals[0, -1, y] = 1\n",
    "    forces = np.zeros((width + 1, height + 1, 2))\n",
    "    forces[-1, rd, y] = 1\n",
    "    return normals, forces, density"
   ]
  },
  {
   "cell_type": "code",
   "execution_count": null,
   "metadata": {
    "tags": [
     "parameters"
    ]
   },
   "outputs": [],
   "source": [
    "\n",
    "width = 10\n",
    "length = 10\n",
    "train_steps = 1000\n",
    "log_dir =  pathlib.Path(\"logs/\")\n"
   ]
  },
  {
   "cell_type": "markdown",
   "metadata": {},
   "source": [
    "# Formalising the Problem\n",
    "Beim Durchführen einer Topologieoptimierung geht es darum folgende Funktion zu mimimieren\n",
    "\n",
    "$$\\begin{aligned}\\mathbf{\\mathit{F}} \\big( \\mathbf{u}(\\rho), \\rho \\big) = \\int_\\Omega^\\Omega{f(\\mathbf{u}(\\rho), \\rho)}\\,\\mathrm{d}V\\end{aligned}$$\n",
    "\n",
    "\n",
    "mit Einbezug der Funktionen\n",
    "$$\\begin{aligned}G_{0}(\\rho)=\\int_\\Omega^\\Omega\\rho\\mathrm{d}V-V_{0}\\end{aligned}\\leq 0$$\n",
    "und\n",
    "$$\\begin{aligned}\\rho(x) \\in \\{0,1\\}\\,   \\end{aligned} \\forall x \\in \\Omega$$\n",
    "\n",
    "\n",
    "\n"
   ]
  },
  {
   "cell_type": "markdown",
   "metadata": {},
   "source": [
    "Der zu trainierende Agent benötigt einen Zustandsraum, mithilfe dessen der zu trainierende Agent alle möglichen Beobachtungen innerhalb der Trainingsumgebung sehen kann.\\\n",
    "Zur Repräsentation des Zustandsraums des Grids sollte eine NxNx3 Matrix verwendet werden\n",
    "$$\\begin{aligned}O_{d,x, y}\\end{aligned}$$\n",
    "Die ersten beiden Indizes $x,y$ repräsentieren so die Koordinaten der einzelnen Punkte, \n",
    "und der letzte index funktioniert folgendermaßen:\n",
    "- für d = 0 zeigt die Matrix die Spannung jedes Elements. Berechnet wird diese durch das Inverse der normalisierten Von Mises Formel:\n",
    "    $$\\sigma_{\\mathit{VM}} = \\sqrt{\\sigma_{x}^{2} + \\sigma_{y}^{2} - \\sigma_{x}\\sigma_{y} + 3\\tau_{x,y}}$$ \n",
    "    Also:\n",
    "    $$O_{0,x,y} = \\left(\\frac{\\sigma_{\\mathit{VM,x,y}}}{\\sigma_{\\mathit{VM,max}}}\\right)^{-1}$$\n",
    "- für d = 1 enspricht $O_{1,x,y}$ einer Boolschen repräsentation, ob der Knoten an Position $(x,y)$ nach den Dirichlet-Randbedingungen fixiert ist oder nicht\n",
    "    Also:\n",
    "    $$O_{1,x,y} \\in \\{1,0\\}\\,   \\forall (x,y)$$\n",
    "- für d = 1 enspricht $O_{3,x,y}$ analog einer boolschen repräsentation, ob der Knoten eine Kraft erfährt\n",
    "    Also auch:\n",
    "    $$O_{3,x,y} \\in \\{1,0\\}\\,   \\forall (x,y)$$\n",
    "\n",
    "\n",
    "\n"
   ]
  },
  {
   "cell_type": "markdown",
   "metadata": {},
   "source": [
    "# Objective Function\n",
    "$\\mathbf{\\mathit{F}} \\big( \\mathbf{u}(\\rho), \\rho \\big) = \\int_\\Omega^\\Omega{f\\big(\\mathbf{u}(\\rho), \\rho\\big)}\\,\\mathrm{d}V$"
   ]
  },
  {
   "cell_type": "code",
   "execution_count": null,
   "metadata": {},
   "outputs": [],
   "source": [
    "def objective(rho, f, u, volume):\n",
    "    # Berechne u als Funktion von rho, hier vereinfacht dargestellt\n",
    "    u_rho = u(rho)\n",
    "    return np.sum(f(u_rho, rho) * volume)"
   ]
  },
  {
   "cell_type": "markdown",
   "metadata": {},
   "source": [
    "# Compliance Function\n"
   ]
  },
  {
   "cell_type": "code",
   "execution_count": null,
   "metadata": {},
   "outputs": [],
   "source": [
    "def volume_constraint(rho, volume, V0):\n",
    "    return V0 - np.sum(rho * volume)"
   ]
  },
  {
   "cell_type": "code",
   "execution_count": null,
   "metadata": {},
   "outputs": [],
   "source": [
    "def calculate_von_mises_stress(stiffness_matrix, strain):\n",
    "    \n",
    "    stresses = anp.dot(stiffness_matrix, strain)\n",
    "    \n",
    "    sigma_x = stresses[0]\n",
    "    sigma_y = stresses[1]\n",
    "    tau_xy = stresses[2]\n",
    "\n",
    "    von_mises_stress = anp.sqrt(sigma_x**2 \n",
    "                                - sigma_x*sigma_y \n",
    "                                + sigma_y**2 \n",
    "                                + 3*tau_xy**2)\n",
    "\n",
    "    return von_mises_stress"
   ]
  },
  {
   "cell_type": "markdown",
   "metadata": {},
   "source": [
    "$$\\sigma_{\\mathit{VM}} = \\sqrt{\\sigma_{x}^{2} + \\sigma_{y}^{2} - \\sigma_{x}\\sigma_{y} + 3\\tau_{x,y}}$$ "
   ]
  },
  {
   "cell_type": "code",
   "execution_count": null,
   "metadata": {},
   "outputs": [],
   "source": [
    "def calculate_stress(stiffness_matrix, strain, obs):\n",
    "    stress_matrix= obs[:,:,0]\n",
    "    for x in np.nditer(stress_matrix, op_flags=['readwrite']):\n",
    "        if x > 0:\n",
    "            x[...] *= calculate_von_mises_stress()\n",
    "    return stress_matrix"
   ]
  },
  {
   "cell_type": "code",
   "execution_count": null,
   "metadata": {},
   "outputs": [],
   "source": [
    "Z = [[1, 0, 0, 0],\n",
    "     [0, 1, 0, 0],\n",
    "     [0, 1, 1, 0],\n",
    "     [1, 0, 0, 1]]\n",
    "\n",
    "fig, ax = plt.subplots()\n",
    "ax.imshow(Z, cmap='GnBu')\n",
    "\n",
    "plt.show()"
   ]
  },
  {
   "cell_type": "code",
   "execution_count": 5,
   "metadata": {},
   "outputs": [],
   "source": [
    "class OptimisingEnv(gym.Env):\n",
    "    \n",
    "    metadata = {\"render.modes\" : [\"human\"]}\n",
    "    \n",
    "\n",
    "    def __init__(self, render_mode=None, width=10, length=10):\n",
    "        \n",
    "        # getting the Parameters from our Beam Example\n",
    "        self.args = get_args(*mbb_beam(0))\n",
    "        \n",
    "        # setting a few defualt parameters for the solver\n",
    "        self.Lx = 1\n",
    "        self.Ly = 1\n",
    "        self.p = 10\n",
    "\n",
    "        # adjusting the way Normals and Forces are Represented for the FEA Solver\n",
    "        matrix1 = self.args.normals[:, :, 0]\n",
    "        matrix2 = self.args.normals[:, :, 1]\n",
    "        self.BC_nodes = np.logical_or(matrix1, matrix2).astype(int)\n",
    "        matrix1 = self.args.forces[:, :, 0]\n",
    "        matrix2 = self.args.forces[:, :, 1]\n",
    "        self.LC_Nodes = np.logical_or(matrix1, matrix2).astype(int)\n",
    "\n",
    "        # creating bith the observation and action space\n",
    "        self.observation_space = spaces.Box(low=0, high=1, shape=(width, length, 3))\n",
    "        self.action_space = spaces.Discrete(width*length)\n",
    "        \n",
    "        self.reward = 0\n",
    "        self.Counter = 0\n",
    "        self.needs_reset = True\n",
    "\n",
    "\n",
    "    def step(self, action):\n",
    "        self.Counter+=1 \n",
    "\n",
    "        rs_place=self.VoidCheck[int(action)]\n",
    "        self.VoidCheck[int(action)]=0\n",
    "        \n",
    "        ElementMat=np.reshape(self.VoidCheck,(self.args.nelx,self.args.nely))\n",
    "        # Check if the ElementMat is made up of a single group\n",
    "        SingleCheck=isolate_largest_group_original(ElementMat)\n",
    "        \n",
    "        if self.needs_reset:\n",
    "            raise RuntimeError(\"Tried to step environment that needs reset\")\n",
    "        \n",
    "        if rs_place==1 and action not in self.BC and SingleCheck[1]==True:\n",
    "            done = False\n",
    "        self.observation_space = self._get_obs()\n",
    "        \n",
    "        \n",
    "        \n",
    "        if done:\n",
    "            self.needs_reset = True\n",
    "        truncated = False\n",
    "        return self.observation_space, self.reward, done, truncated, {}\n",
    "\n",
    "\n",
    "\n",
    "    def reset(self):\n",
    "        #get the current Observation Space\n",
    "        self.observation_space = self._get_obs()\n",
    "        # Gymnasium always wants you to return info\n",
    "        info = {\"info\" : \"nothing special\"}\n",
    "        # resetting variables\n",
    "        self.reward=0\n",
    "        self.Counter=0\n",
    "        self.needs_reset = False\n",
    "        return self.observation_space\n",
    "    \n",
    "\n",
    "    def _get_obs(self):\n",
    "        # Runs the FEA Solver and Saves the results to the Observation Space\n",
    "        self.Results = FEASolve(self.args, list(self.VoidCheck),self.Lx,self.Ly,\n",
    "                             self.LC_Nodes,self.Load_Directions,\n",
    "                             self.BC_Nodes,Stress=True)\n",
    "        #Saving the Von Mises Stress Array\n",
    "        self.Stress_state = self.Results[3]\n",
    "        self.P_Norm = sum(sum([number**self.p for number in np.reshape\n",
    "                             (self.Results[2],(1,self.nelx*self.nely))]))**(1/self.p)        \n",
    "        self.Stress_state = np.reshape(self.Stress_state,\n",
    "                                     (self.args.nelx,self.args.nely))  \n",
    "        # Updating the Observation Space Matrix      \n",
    "        self.observation_space[:,:,0] = self.Stress_state\n",
    "        self.observation_space[:,:,1] = self.BC_state\n",
    "        self.observation_space[:,:,2] = self.LC_state\n",
    "        return self.observation_space"
   ]
  },
  {
   "cell_type": "code",
   "execution_count": 2,
   "metadata": {},
   "outputs": [
    {
     "ename": "IndentationError",
     "evalue": "unindent does not match any outer indentation level (<string>, line 8)",
     "output_type": "error",
     "traceback": [
      "\u001b[1;36m  File \u001b[1;32m<string>:8\u001b[1;36m\u001b[0m\n\u001b[1;33m    return result\u001b[0m\n\u001b[1;37m                 ^\u001b[0m\n\u001b[1;31mIndentationError\u001b[0m\u001b[1;31m:\u001b[0m unindent does not match any outer indentation level\n"
     ]
    }
   ],
   "source": [
    "   \n",
    "def combine_matrices(matrix):\n",
    "\n",
    "    matrix1 = matrix[:, :, 0]\n",
    "    matrix2 = matrix[:, :, 1]\n",
    "\n",
    "    result = np.logical_or(matrix1, matrix2).astype(int)\n",
    "\n",
    "    return result"
   ]
  }
 ],
 "metadata": {
  "kernelspec": {
   "display_name": "Python 3",
   "language": "python",
   "name": "python3"
  },
  "language_info": {
   "codemirror_mode": {
    "name": "ipython",
    "version": 3
   },
   "file_extension": ".py",
   "mimetype": "text/x-python",
   "name": "python",
   "nbconvert_exporter": "python",
   "pygments_lexer": "ipython3",
   "version": "3.12.3"
  }
 },
 "nbformat": 4,
 "nbformat_minor": 4
}
