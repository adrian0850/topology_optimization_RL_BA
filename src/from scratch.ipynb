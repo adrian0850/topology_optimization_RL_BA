{
 "cells": [
  {
   "cell_type": "code",
   "execution_count": 1,
   "metadata": {},
   "outputs": [
    {
     "ename": "ModuleNotFoundError",
     "evalue": "No module named 'fenics'",
     "output_type": "error",
     "traceback": [
      "\u001b[1;31m---------------------------------------------------------------------------\u001b[0m",
      "\u001b[1;31mModuleNotFoundError\u001b[0m                       Traceback (most recent call last)",
      "Cell \u001b[1;32mIn[1], line 9\u001b[0m\n\u001b[0;32m      7\u001b[0m \u001b[38;5;28;01mimport\u001b[39;00m \u001b[38;5;21;01mautograd\u001b[39;00m\u001b[38;5;21;01m.\u001b[39;00m\u001b[38;5;21;01mnumpy\u001b[39;00m \u001b[38;5;28;01mas\u001b[39;00m \u001b[38;5;21;01manp\u001b[39;00m      \n\u001b[0;32m      8\u001b[0m \u001b[38;5;28;01mimport\u001b[39;00m \u001b[38;5;21;01mscipy\u001b[39;00m\u001b[38;5;241m,\u001b[39m \u001b[38;5;21;01mscipy\u001b[39;00m\u001b[38;5;21;01m.\u001b[39;00m\u001b[38;5;21;01mndimage\u001b[39;00m\u001b[38;5;241m,\u001b[39m \u001b[38;5;21;01mscipy\u001b[39;00m\u001b[38;5;21;01m.\u001b[39;00m\u001b[38;5;21;01msparse\u001b[39;00m\u001b[38;5;241m,\u001b[39m \u001b[38;5;21;01mscipy\u001b[39;00m\u001b[38;5;21;01m.\u001b[39;00m\u001b[38;5;21;01msparse\u001b[39;00m\u001b[38;5;21;01m.\u001b[39;00m\u001b[38;5;21;01mlinalg\u001b[39;00m    \n\u001b[1;32m----> 9\u001b[0m \u001b[38;5;28;01mimport\u001b[39;00m \u001b[38;5;21;01mfenics\u001b[39;00m \u001b[38;5;28;01mas\u001b[39;00m \u001b[38;5;21;01mfe\u001b[39;00m\n\u001b[0;32m     11\u001b[0m \u001b[38;5;28;01mimport\u001b[39;00m \u001b[38;5;21;01mgymnasium\u001b[39;00m \u001b[38;5;28;01mas\u001b[39;00m \u001b[38;5;21;01mgym\u001b[39;00m\n\u001b[0;32m     12\u001b[0m \u001b[38;5;28;01mfrom\u001b[39;00m \u001b[38;5;21;01mgymnasium\u001b[39;00m \u001b[38;5;28;01mimport\u001b[39;00m spaces\n",
      "\u001b[1;31mModuleNotFoundError\u001b[0m: No module named 'fenics'"
     ]
    }
   ],
   "source": [
    "import time\n",
    "import os\n",
    "import random\n",
    "import numpy as np                                                \n",
    "import matplotlib.pyplot as plt                                   \n",
    "import autograd, autograd.core, autograd.extend, autograd.tracer  \n",
    "import autograd.numpy as anp      \n",
    "import scipy, scipy.ndimage, scipy.sparse, scipy.sparse.linalg    \n",
    "\n",
    "                                                     \n",
    "import gymnasium as gym\n",
    "from gymnasium import spaces\n",
    "\n",
    "from stable_baselines3 import PPO\n",
    "from stable_baselines3.common.env_checker import check_env\n",
    "from stable_baselines3.common.monitor import Monitor\n",
    "from stable_baselines3.common.results_plotter import load_results, ts2xy\n",
    "from stable_baselines3.common.callbacks import BaseCallback\n",
    "from stable_baselines3.common import results_plotter\n",
    "\n",
    "# added Imports For Multiprocessing\n",
    "from stable_baselines3.common.vec_env import DummyVecEnv\n",
    "from stable_baselines3.common.vec_env import SubprocVecEnv\n",
    "from stable_baselines3.common.vec_env import VecMonitor\n",
    "\n",
    "# added Imports for Tensorboard Analysis\n",
    "%load_ext tensorboard\n",
    "import tensorflow as tf\n",
    "import datetime"
   ]
  },
  {
   "cell_type": "markdown",
   "metadata": {},
   "source": [
    "# Formalising the Problem\n",
    "Beim Durchführen einer Topologieoptimierung geht es darum folgende Funktion zu mimimieren\n",
    "\n",
    "$$\\begin{aligned}\\mathbf{\\mathit{F}} \\big( \\mathbf{u}(\\rho), \\rho \\big) = \\int_\\Omega^\\Omega{f(\\mathbf{u}(\\rho), \\rho)}\\,\\mathrm{d}V\\end{aligned}$$\n",
    "\n",
    "\n",
    "mit Einbezug der Funktionen\n",
    "$$\\begin{aligned}G_{0}(\\rho)=\\int_\\Omega^\\Omega\\rho\\mathrm{d}V-V_{0}\\end{aligned}\\leq 0$$\n",
    "und\n",
    "$$\\begin{aligned}\\rho(x) \\in \\{0,1\\}\\,   \\end{aligned} \\forall x \\in \\Omega$$\n",
    "\n",
    "\n",
    "\n"
   ]
  },
  {
   "cell_type": "markdown",
   "metadata": {},
   "source": [
    "Der zu trainierende Agent benötigt einen Zustandsraum, mithilfe dessen der zu trainierende Agent alle möglichen Beobachtungen innerhalb der Trainingsumgebung sehen kann.\\\n",
    "Zur Repräsentation des Zustandsraums des Grids sollte eine NxNx3 Matrix verwendet werden\n",
    "$$\\begin{aligned}O_{d,x, y}\\end{aligned}$$\n",
    "Die ersten beiden Indizes $x,y$ repräsentieren so die Koordinaten der einzelnen Punkte, \n",
    "und der letzte index funktioniert folgendermaßen:\n",
    "- für d = 0 zeigt die Matrix die Spannung jedes Elements. Berechnet wird diese durch das Inverse der normalisierten Von Mises Formel:\n",
    "    $$\\sigma_{\\mathit{VM}} = \\sqrt{\\sigma_{x}^{2} + \\sigma_{y}^{2} - \\sigma_{x}\\sigma_{y} + 3\\tau_{x,y}}$$ \n",
    "    Also:\n",
    "    $$O_{0,x,y} = \\left(\\frac{\\sigma_{\\mathit{VM,x,y}}}{\\sigma_{\\mathit{VM,max}}}\\right)^{-1}$$\n",
    "- für d = 1 enspricht $O_{1,x,y}$ einer Boolschen repräsentation, ob der Knoten an Position $(x,y)$ nach den Dirichlet-Randbedingungen fixiert ist oder nicht\n",
    "    Also:\n",
    "    $$O_{1,x,y} \\in \\{1,0\\}\\,   \\forall (x,y)$$\n",
    "- für d = 1 enspricht $O_{3,x,y}$ analog einer boolschen repräsentation, ob der Knoten eine Kraft erfährt\n",
    "    Also auch:\n",
    "    $$O_{3,x,y} \\in \\{1,0\\}\\,   \\forall (x,y)$$\n",
    "\n",
    "\n",
    "\n"
   ]
  },
  {
   "cell_type": "markdown",
   "metadata": {},
   "source": [
    "# Objective Function\n",
    "$\\mathbf{\\mathit{F}} \\big( \\mathbf{u}(\\rho), \\rho \\big) = \\int_\\Omega^\\Omega{f\\big(\\mathbf{u}(\\rho), \\rho\\big)}\\,\\mathrm{d}V$"
   ]
  },
  {
   "cell_type": "code",
   "execution_count": null,
   "metadata": {},
   "outputs": [],
   "source": [
    "def objective(rho, f, u, volume):\n",
    "    # Berechne u als Funktion von rho, hier vereinfacht dargestellt\n",
    "    u_rho = u(rho)\n",
    "    return np.sum(f(u_rho, rho) * volume)"
   ]
  },
  {
   "cell_type": "markdown",
   "metadata": {},
   "source": [
    "# Compliance Function\n"
   ]
  },
  {
   "cell_type": "code",
   "execution_count": null,
   "metadata": {},
   "outputs": [],
   "source": [
    "def volume_constraint(rho, volume, V0):\n",
    "    return V0 - np.sum(rho * volume)"
   ]
  },
  {
   "cell_type": "code",
   "execution_count": 2,
   "metadata": {},
   "outputs": [
    {
     "name": "stdout",
     "output_type": "stream",
     "text": [
      "[[ 9.89010989e+10  3.57142857e+10 -6.04395604e+10 -2.74725275e+09\n",
      "  -4.94505495e+10 -3.57142857e+10  1.09890110e+10  2.74725275e+09]\n",
      " [ 3.57142857e+10  9.89010989e+10  2.74725275e+09  1.09890110e+10\n",
      "  -3.57142857e+10 -4.94505495e+10 -2.74725275e+09 -6.04395604e+10]\n",
      " [-6.04395604e+10  2.74725275e+09  9.89010989e+10 -3.57142857e+10\n",
      "   1.09890110e+10 -2.74725275e+09 -4.94505495e+10  3.57142857e+10]\n",
      " [-2.74725275e+09  1.09890110e+10 -3.57142857e+10  9.89010989e+10\n",
      "   2.74725275e+09 -6.04395604e+10  3.57142857e+10 -4.94505495e+10]\n",
      " [-4.94505495e+10 -3.57142857e+10  1.09890110e+10  2.74725275e+09\n",
      "   9.89010989e+10  3.57142857e+10 -6.04395604e+10 -2.74725275e+09]\n",
      " [-3.57142857e+10 -4.94505495e+10 -2.74725275e+09 -6.04395604e+10\n",
      "   3.57142857e+10  9.89010989e+10  2.74725275e+09  1.09890110e+10]\n",
      " [ 1.09890110e+10 -2.74725275e+09 -4.94505495e+10  3.57142857e+10\n",
      "  -6.04395604e+10  2.74725275e+09  9.89010989e+10 -3.57142857e+10]\n",
      " [ 2.74725275e+09 -6.04395604e+10  3.57142857e+10 -4.94505495e+10\n",
      "  -2.74725275e+09  1.09890110e+10 -3.57142857e+10  9.89010989e+10]]\n"
     ]
    }
   ],
   "source": [
    "def get_stiffness_matrix(e, nu):  # e=young's modulus, nu=poisson coefficient\n",
    "    k = anp.array([1/2-nu/6, 1/8+nu/8, -1/4-nu/12, -1/8+3*nu/8,\n",
    "                -1/4+nu/12, -1/8-nu/8, nu/6, 1/8-3*nu/8])\n",
    "    return e/(1-nu**2)*anp.array([[k[0], k[1], k[2], k[3], k[4], k[5], k[6], k[7]],\n",
    "                               [k[1], k[0], k[7], k[6], k[5], k[4], k[3], k[2]],\n",
    "                               [k[2], k[7], k[0], k[5], k[6], k[3], k[4], k[1]],\n",
    "                               [k[3], k[6], k[5], k[0], k[7], k[2], k[1], k[4]],\n",
    "                               [k[4], k[5], k[6], k[7], k[0], k[1], k[2], k[3]],\n",
    "                               [k[5], k[4], k[3], k[2], k[1], k[0], k[7], k[6]],\n",
    "                               [k[6], k[3], k[4], k[1], k[2], k[7], k[0], k[5]],\n",
    "                               [k[7], k[2], k[1], k[4], k[3], k[6], k[5], k[0]]])\n",
    "\n",
    "e = 200e9  # Young's modulus in Pa\n",
    "nu = 0.3  # Poisson's ratio\n",
    "\n",
    "stiffness_matrix = get_stiffness_matrix(e, nu)\n",
    "print(stiffness_matrix)"
   ]
  },
  {
   "cell_type": "code",
   "execution_count": null,
   "metadata": {},
   "outputs": [],
   "source": [
    "def get_k(stiffness, ke):\n",
    "    # Constructs sparse stiffness matrix k (used in the displace fn)\n",
    "    # First, get position of the nodes of each element in the stiffness matrix\n",
    "    nely, nelx = stiffness.shape\n",
    "    ely, elx = anp.meshgrid(range(nely), range(nelx))  # x, y coords\n",
    "    ely, elx = ely.reshape(-1, 1), elx.reshape(-1, 1)\n",
    "\n",
    "    n1 = (nely+1)*(elx+0) + (ely+0)\n",
    "    n2 = (nely+1)*(elx+1) + (ely+0)\n",
    "    n3 = (nely+1)*(elx+1) + (ely+1)\n",
    "    n4 = (nely+1)*(elx+0) + (ely+1)\n",
    "    edof = anp.array([2*n1, 2*n1+1, 2*n2, 2*n2+1, 2*n3, 2*n3+1, 2*n4, 2*n4+1])\n",
    "    edof = edof.T[0]\n",
    "    x_list = anp.repeat(edof, 8)  # flat list pointer of each node in an element\n",
    "    y_list = anp.tile(edof, 8).flatten()  # flat list pointer of each node in elem\n",
    "\n",
    "    # make the global stiffness matrix K\n",
    "    kd = stiffness.T.reshape(nelx*nely, 1, 1)\n",
    "    value_list = (kd * anp.tile(ke, kd.shape)).flatten()\n",
    "    return value_list, y_list, x_list"
   ]
  },
  {
   "cell_type": "code",
   "execution_count": null,
   "metadata": {},
   "outputs": [],
   "source": [
    "def _get_solver(a_entries, a_indices, size, sym_pos):\n",
    "    # a is (usu.) symmetric positive; could solve 2x faster w/sksparse.cholmod.cholesky(a).solve_A\n",
    "    a = scipy.sparse.coo_matrix((a_entries, a_indices), shape=(size,)*2).tocsc()\n",
    "    return scipy.sparse.linalg.splu(a).solve\n",
    "\n",
    "@autograd.primitive\n",
    "def solve_coo(a_entries, a_indices, b, sym_pos=False):\n",
    "    solver = _get_solver(a_entries, a_indices, b.size, sym_pos)\n",
    "    return solver(b)\n",
    "\n",
    "def grad_solve_coo_entries(ans, a_entries, a_indices, b, sym_pos=False):\n",
    "    def jvp(grad_ans):\n",
    "        lambda_ = solve_coo(a_entries, a_indices if sym_pos else a_indices[::-1],\n",
    "                            grad_ans, sym_pos)\n",
    "        i, j = a_indices\n",
    "        return -lambda_[i] * ans[j]\n",
    "    return jvp\n",
    "\n",
    "autograd.extend.defvjp(solve_coo, grad_solve_coo_entries,\n",
    "                       lambda: print('err: gradient undefined'),\n",
    "                       lambda: print('err: gradient not implemented'))"
   ]
  },
  {
   "cell_type": "code",
   "execution_count": null,
   "metadata": {},
   "outputs": [],
   "source": [
    "def calculate_von_mises_stress(stiffness_matrix, strain):\n",
    "    stresses = anp.dot(stiffness_matrix, strain)\n",
    "    \n",
    "    sigma_x = stresses[0]\n",
    "    sigma_y = stresses[1]\n",
    "    tau_xy = stresses[2]\n",
    "\n",
    "    von_mises_stress = anp.sqrt(sigma_x**2 \n",
    "                                - sigma_x*sigma_y \n",
    "                                + sigma_y**2 \n",
    "                                + 3*tau_xy**2)\n",
    "\n",
    "    return von_mises_stress"
   ]
  },
  {
   "cell_type": "markdown",
   "metadata": {},
   "source": [
    "$$\\sigma_{\\mathit{VM}} = \\sqrt{\\sigma_{x}^{2} + \\sigma_{y}^{2} - \\sigma_{x}\\sigma_{y} + 3\\tau_{x,y}}$$ "
   ]
  },
  {
   "cell_type": "code",
   "execution_count": null,
   "metadata": {},
   "outputs": [],
   "source": [
    "def calculate_stress(stiffness_matrix, strain, obs):\n",
    "    stress_matrix= obs[:,:,0]\n",
    "    for x in np.nditer(stress_matrix, op_flags=['readwrite']):\n",
    "    if x > 0:\n",
    "        x[...] *= calculate_von_mises_stress()\n",
    "    return stress_matrix"
   ]
  },
  {
   "cell_type": "code",
   "execution_count": 27,
   "metadata": {},
   "outputs": [
    {
     "data": {
      "image/png": "[encoded data removed]",
      "text/plain": [
       "<Figure size 640x480 with 1 Axes>"
      ]
     },
     "metadata": {},
     "output_type": "display_data"
    }
   ],
   "source": [
    "Z = [[1, 0, 0, 0],\n",
    "     [0, 1, 0, 0],\n",
    "     [0, 1, 1, 0],\n",
    "     [1, 0, 0, 1]]\n",
    "\n",
    "fig, ax = plt.subplots()\n",
    "ax.imshow(Z, cmap='GnBu')\n",
    "\n",
    "plt.show()"
   ]
  }
 ],
 "metadata": {
  "kernelspec": {
   "display_name": "Python 3",
   "language": "python",
   "name": "python3"
  },
  "language_info": {
   "codemirror_mode": {
    "name": "ipython",
    "version": 3
   },
   "file_extension": ".py",
   "mimetype": "text/x-python",
   "name": "python",
   "nbconvert_exporter": "python",
   "pygments_lexer": "ipython3",
   "version": "3.12.3"
  }
 },
 "nbformat": 4,
 "nbformat_minor": 4
}
