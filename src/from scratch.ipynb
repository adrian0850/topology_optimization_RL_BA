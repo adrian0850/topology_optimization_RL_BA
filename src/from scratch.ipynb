{
 "cells": [
  {
   "cell_type": "code",
   "execution_count": 6,
   "metadata": {},
   "outputs": [
    {
     "name": "stdout",
     "output_type": "stream",
     "text": [
      "The tensorboard extension is already loaded. To reload it, use:\n",
      "  %reload_ext tensorboard\n"
     ]
    }
   ],
   "source": [
    "import time\n",
    "import os\n",
    "import random\n",
    "import pathlib\n",
    "import numpy as np                                                \n",
    "import matplotlib.pyplot as plt                                   \n",
    "import autograd, autograd.core, autograd.extend, autograd.tracer  \n",
    "import autograd.numpy as anp      \n",
    "import scipy, scipy.ndimage, scipy.sparse, scipy.sparse.linalg    \n",
    "\n",
    "                                                     \n",
    "import gymnasium as gym\n",
    "from gymnasium import spaces\n",
    "\n",
    "import torch\n",
    "from torch import nn as nn\n",
    "import torch.nn.functional as F\n",
    "\n",
    "from stable_baselines3.common.policies import ActorCriticPolicy\n",
    "from stable_baselines3 import PPO\n",
    "from stable_baselines3.common.env_checker import check_env\n",
    "from stable_baselines3.common.monitor import Monitor\n",
    "from stable_baselines3.common.results_plotter import load_results, ts2xy\n",
    "from stable_baselines3.common.callbacks import BaseCallback\n",
    "from stable_baselines3.common import results_plotter\n",
    "from stable_baselines3.common.vec_env import DummyVecEnv\n",
    "from stable_baselines3.common.vec_env import SubprocVecEnv\n",
    "from stable_baselines3.common.vec_env import VecMonitor\n",
    "\n",
    "%load_ext tensorboard\n",
    "import tensorflow as tf\n",
    "import datetime\n",
    "\n",
    "# import the FEA Solver created by Nathan Brown: https://github.com/nkbrown503/PhDResearch/tree/main\n",
    "from FEA_Solver import *\n",
    "from Nodes import *\n",
    "\n",
    "\n"
   ]
  },
  {
   "cell_type": "code",
   "execution_count": 2,
   "metadata": {},
   "outputs": [],
   "source": [
    "class ObjectView(object):\n",
    "    def __init__(self, d): self.__dict__ = d\n",
    "\n",
    "\n",
    "# Manage the problem setup parameters   \n",
    "def get_args(normals, forces, density=1e-4):\n",
    "    width = normals.shape[0] - 1\n",
    "    height = normals.shape[1] - 1\n",
    "    \n",
    "    fixdofs = np.flatnonzero(normals.ravel())\n",
    "    alldofs = np.arange(2 * (width + 1) * (height + 1))\n",
    "    freedofs = np.sort(list(set(alldofs) - set(fixdofs)))\n",
    "   \n",
    "    params = {\n",
    "      # material properties\n",
    "      'young': 1, 'young_min': 1e-9, 'poisson': 0.3, 'g': 0,\n",
    "      # constraints\n",
    "      'density': density, 'xmin': 0.001, 'xmax': 1.0,\n",
    "      # input parameters\n",
    "      'nelx': width, 'nely': height, 'mask': 1, 'penal': 3.0, 'filter_width': 1,\n",
    "      'freedofs': freedofs, 'fixdofs': fixdofs, 'forces': forces, 'normals': normals,\n",
    "      # optimization parameters\n",
    "      'opt_steps': 80, 'print_every': 10}\n",
    "    return ObjectView(params)\n",
    "\n",
    "\n",
    "# textbook beam example\n",
    "def mbb_beam(width=6, height=6, density=1e-4, y=1, x=0, rd=-1):  \n",
    "    normals = np.zeros((width + 1, height + 1, 2))\n",
    "    normals[0, 0, x] = 1\n",
    "    normals[0, 0, y] = 1\n",
    "    normals[0, -1, x] = 1\n",
    "    normals[0, -1, y] = 1\n",
    "    forces = np.zeros((width + 1, height + 1, 2))\n",
    "    forces[-1, rd, y] = 1\n",
    "    return normals, forces, density"
   ]
  },
  {
   "cell_type": "code",
   "execution_count": 3,
   "metadata": {
    "tags": [
     "parameters"
    ]
   },
   "outputs": [],
   "source": [
    "\n",
    "width = 10\n",
    "length = 10\n",
    "train_steps = 1000\n",
    "log_dir =  pathlib.Path(\"logs/\")\n"
   ]
  },
  {
   "cell_type": "markdown",
   "metadata": {},
   "source": [
    "# Formalising the Problem\n",
    "Beim Durchführen einer Topologieoptimierung geht es darum folgende Funktion zu mimimieren\n",
    "\n",
    "$$\\begin{aligned}\\mathbf{\\mathit{F}} \\big( \\mathbf{u}(\\rho), \\rho \\big) = \\int_\\Omega^\\Omega{f(\\mathbf{u}(\\rho), \\rho)}\\,\\mathrm{d}V\\end{aligned}$$\n",
    "\n",
    "\n",
    "mit Einbezug der Funktionen\n",
    "$$\\begin{aligned}G_{0}(\\rho)=\\int_\\Omega^\\Omega\\rho\\mathrm{d}V-V_{0}\\end{aligned}\\leq 0$$\n",
    "und\n",
    "$$\\begin{aligned}\\rho(x) \\in \\{0,1\\}\\,   \\end{aligned} \\forall x \\in \\Omega$$\n",
    "\n",
    "\n",
    "\n"
   ]
  },
  {
   "cell_type": "markdown",
   "metadata": {},
   "source": [
    "Der zu trainierende Agent benötigt einen Zustandsraum, mithilfe dessen der zu trainierende Agent alle möglichen Beobachtungen innerhalb der Trainingsumgebung sehen kann.\\\n",
    "Zur Repräsentation des Zustandsraums des Grids sollte eine NxNx3 Matrix verwendet werden\n",
    "$$\\begin{aligned}O_{d,x, y}\\end{aligned}$$\n",
    "Die ersten beiden Indizes $x,y$ repräsentieren so die Koordinaten der einzelnen Punkte, \n",
    "und der letzte index funktioniert folgendermaßen:\n",
    "- für d = 0 zeigt die Matrix die Spannung jedes Elements. Berechnet wird diese durch das Inverse der normalisierten Von Mises Formel:\n",
    "    $$\\sigma_{\\mathit{VM}} = \\sqrt{\\sigma_{x}^{2} + \\sigma_{y}^{2} - \\sigma_{x}\\sigma_{y} + 3\\tau_{x,y}}$$ \n",
    "    Also:\n",
    "    $$O_{0,x,y} = \\left(\\frac{\\sigma_{\\mathit{VM,x,y}}}{\\sigma_{\\mathit{VM,max}}}\\right)^{-1}$$\n",
    "- für d = 1 enspricht $O_{1,x,y}$ einer Boolschen repräsentation, ob der Knoten an Position $(x,y)$ nach den Dirichlet-Randbedingungen fixiert ist oder nicht\n",
    "    Also:\n",
    "    $$O_{1,x,y} \\in \\{1,0\\}\\,   \\forall (x,y)$$\n",
    "- für d = 1 enspricht $O_{3,x,y}$ analog einer boolschen repräsentation, ob der Knoten eine Kraft erfährt\n",
    "    Also auch:\n",
    "    $$O_{3,x,y} \\in \\{1,0\\}\\,   \\forall (x,y)$$\n",
    "\n",
    "\n",
    "\n"
   ]
  },
  {
   "cell_type": "markdown",
   "metadata": {},
   "source": [
    "# Objective Function\n",
    "$\\mathbf{\\mathit{F}} \\big( \\mathbf{u}(\\rho), \\rho \\big) = \\int_\\Omega^\\Omega{f\\big(\\mathbf{u}(\\rho), \\rho\\big)}\\,\\mathrm{d}V$"
   ]
  },
  {
   "cell_type": "code",
   "execution_count": null,
   "metadata": {},
   "outputs": [],
   "source": [
    "def objective(rho, f, u, volume):\n",
    "    # Berechne u als Funktion von rho, hier vereinfacht dargestellt\n",
    "    u_rho = u(rho)\n",
    "    return np.sum(f(u_rho, rho) * volume)"
   ]
  },
  {
   "cell_type": "markdown",
   "metadata": {},
   "source": [
    "# Compliance Function\n"
   ]
  },
  {
   "cell_type": "code",
   "execution_count": null,
   "metadata": {},
   "outputs": [],
   "source": [
    "def volume_constraint(rho, volume, V0):\n",
    "    return V0 - np.sum(rho * volume)"
   ]
  },
  {
   "cell_type": "code",
   "execution_count": null,
   "metadata": {},
   "outputs": [],
   "source": [
    "def calculate_von_mises_stress(stiffness_matrix, strain):\n",
    "    \n",
    "    stresses = anp.dot(stiffness_matrix, strain)\n",
    "    \n",
    "    sigma_x = stresses[0]\n",
    "    sigma_y = stresses[1]\n",
    "    tau_xy = stresses[2]\n",
    "\n",
    "    von_mises_stress = anp.sqrt(sigma_x**2 \n",
    "                                - sigma_x*sigma_y \n",
    "                                + sigma_y**2 \n",
    "                                + 3*tau_xy**2)\n",
    "\n",
    "    return von_mises_stress"
   ]
  },
  {
   "cell_type": "markdown",
   "metadata": {},
   "source": [
    "$$\\sigma_{\\mathit{VM}} = \\sqrt{\\sigma_{x}^{2} + \\sigma_{y}^{2} - \\sigma_{x}\\sigma_{y} + 3\\tau_{x,y}}$$ "
   ]
  },
  {
   "cell_type": "code",
   "execution_count": null,
   "metadata": {},
   "outputs": [],
   "source": [
    "def calculate_stress(stiffness_matrix, strain, obs):\n",
    "    stress_matrix= obs[:,:,0]\n",
    "    for x in np.nditer(stress_matrix, op_flags=['readwrite']):\n",
    "        if x > 0:\n",
    "            x[...] *= calculate_von_mises_stress()\n",
    "    return stress_matrix"
   ]
  },
  {
   "cell_type": "code",
   "execution_count": null,
   "metadata": {},
   "outputs": [],
   "source": [
    "Z = [[1, 0, 0, 0],\n",
    "     [0, 1, 0, 0],\n",
    "     [0, 1, 1, 0],\n",
    "     [1, 0, 0, 1]]\n",
    "\n",
    "fig, ax = plt.subplots()\n",
    "ax.imshow(Z, cmap='GnBu')\n",
    "\n",
    "plt.show()"
   ]
  },
  {
   "cell_type": "code",
   "execution_count": 7,
   "metadata": {},
   "outputs": [],
   "source": [
    "class OptimisingEnv(gym.Env):\n",
    "    \n",
    "    metadata = {\"render.modes\" : [\"human\"]}\n",
    "    \n",
    "\n",
    "    def __init__(self, render_mode=None, width=10, length=10):\n",
    "        \n",
    "        # getting the Parameters from our Beam Example\n",
    "        self.args = get_args(*mbb_beam())\n",
    "        \n",
    "        # setting a few defualt parameters for the solver\n",
    "        self.Lx = 1\n",
    "        self.Ly = 1\n",
    "        self.p = 10\n",
    "\n",
    "        # adjusting the way Normals and Forces are Represented for the FEA Solver\n",
    "        matrix1 = self.args.normals[:, :, 0]\n",
    "        matrix2 = self.args.normals[:, :, 1]\n",
    "\n",
    "\n",
    "        self.BC_Nodes = np.logical_or(matrix1, matrix2).astype(int)\n",
    "\n",
    "        matrix1 = self.args.forces[:, :, 0]\n",
    "        matrix2 = self.args.forces[:, :, 1]\n",
    "        self.LC_Nodes = np.logical_or(matrix1, matrix2).astype(int)\n",
    "\n",
    "        # creating both the observation and action space\n",
    "        self.observation_space = spaces.Box(low=0, high=1, shape=(width, length, 3))\n",
    "        self.action_space = spaces.Discrete(width*length)\n",
    "        \n",
    "        self.reward = 0\n",
    "        self.Counter = 0\n",
    "        self.needs_reset = True\n",
    "\n",
    "        self.VoidCheck=np.ones((1,self.args.nelx*self.args.nely))\n",
    "        self.VoidCheck=list(self.VoidCheck[0])\n",
    "        self.VoidCheck=np.array(self.VoidCheck)\n",
    "        self.Load_Directions=[]\n",
    "        self.Load_Directions=np.append(self.Load_Directions,random.choice([-1,1])) #1 for Compressive Load, -1 for tensile load\n",
    "\n",
    "    def step(self, action):\n",
    "        self.Counter+=1 \n",
    "\n",
    "        rs_place=self.VoidCheck[int(action)]\n",
    "        self.VoidCheck[int(action)]=0\n",
    "        \n",
    "        ElementMat=np.reshape(self.VoidCheck,(self.args.nelx,self.args.nely))\n",
    "        # Check if the ElementMat is made up of a single group\n",
    "        SingleCheck=isolate_largest_group_original(ElementMat)\n",
    "        \n",
    "        if self.needs_reset:\n",
    "            raise RuntimeError(\"Tried to step environment that needs reset\")\n",
    "        \n",
    "        if rs_place==1 and action not in self.BC and SingleCheck[1]==True:\n",
    "            done = False\n",
    "        self.observation_space = self._get_obs()\n",
    "        \n",
    "        \n",
    "        \n",
    "        if done:\n",
    "            self.needs_reset = True\n",
    "        truncated = False\n",
    "        return self.observation_space, self.reward, done, truncated, {}\n",
    "        \n",
    "\n",
    "\n",
    "    def reset(self,seed=None):\n",
    "        #get the current Observation Space\n",
    "        self.observation_space = self._get_obs()\n",
    "        # Gymnasium always wants you to return info\n",
    "        info = {\"info\" : \"nothing special\"}\n",
    "        # resetting variables\n",
    "        self.reward=0\n",
    "        self.Counter=0\n",
    "        self.needs_reset = False\n",
    "        return self.observation_space\n",
    "    \n",
    "\n",
    "    def _get_obs(self):\n",
    "        # Runs the FEA Solver and Saves the results to the Observation Space\n",
    "\n",
    "        self.Results = FEASolve(self.args, list(self.VoidCheck),self.Lx,self.Ly,\n",
    "                             self.LC_Nodes,self.Load_Directions,\n",
    "                             self.BC_Nodes,Stress=True)\n",
    "        #Saving the Von Mises Stress Array\n",
    "        self.Stress_state = self.Results[3]\n",
    "        self.P_Norm = sum(sum([number**self.p for number in np.reshape\n",
    "                             (self.Results[2],(1,self.nelx*self.nely))]))**(1/self.p)\n",
    "        self.Stress_state = np.reshape(self.Stress_state,\n",
    "                                     (self.args.nelx,self.args.nely))  \n",
    "        # Updating the Observation Space Matrix      \n",
    "        self.observation_space[:,:,0] = self.Stress_state\n",
    "        self.observation_space[:,:,1] = self.BC_state\n",
    "        self.observation_space[:,:,2] = self.LC_state\n",
    "        return self.observation_space\n",
    "    \n",
    "    def reset_conditions(self, seed = None):\n",
    "        self.Max_SE_Tot=0\n",
    "        self.VoidCheck=np.ones((1,self.EX*self.EY))\n",
    "        self.VoidCheck=list(self.VoidCheck[0])\n",
    "        self.VoidCheck=np.array(self.VoidCheck)\n",
    "\n",
    "\n",
    "    def render(self, mode=\"human\"):\n",
    "        fig, ax = plt.subplots()\n",
    "        ax.imshow(self.observation_space[:,:,0], cmap='GnBu')\n",
    "        plt.show()"
   ]
  },
  {
   "cell_type": "code",
   "execution_count": 1,
   "metadata": {},
   "outputs": [
    {
     "ename": "NameError",
     "evalue": "name 'os' is not defined",
     "output_type": "error",
     "traceback": [
      "\u001b[1;31m---------------------------------------------------------------------------\u001b[0m",
      "\u001b[1;31mNameError\u001b[0m                                 Traceback (most recent call last)",
      "Cell \u001b[1;32mIn[1], line 1\u001b[0m\n\u001b[1;32m----> 1\u001b[0m \u001b[43mos\u001b[49m\u001b[38;5;241m.\u001b[39mmakedirs(log_dir, exist_ok\u001b[38;5;241m=\u001b[39m\u001b[38;5;28;01mTrue\u001b[39;00m)\n\u001b[0;32m      2\u001b[0m env \u001b[38;5;241m=\u001b[39m OptimisingEnv()\n\u001b[0;32m      3\u001b[0m check_env(env)\n",
      "\u001b[1;31mNameError\u001b[0m: name 'os' is not defined"
     ]
    }
   ],
   "source": [
    "os.makedirs(log_dir, exist_ok=True)\n",
    "env = OptimisingEnv()\n",
    "check_env(env)"
   ]
  },
  {
   "cell_type": "code",
   "execution_count": null,
   "metadata": {},
   "outputs": [],
   "source": [
    "   \n",
    "def combine_matrices(matrix):\n",
    "\n",
    "    matrix1 = matrix[:, :, 0]\n",
    "    matrix2 = matrix[:, :, 1]\n",
    "\n",
    "    result = np.logical_or(matrix1, matrix2).astype(int)\n",
    "\n",
    "    return result"
   ]
  },
  {
   "cell_type": "code",
   "execution_count": null,
   "metadata": {},
   "outputs": [],
   "source": [
    "device = (\n",
    "    \"cuda\"\n",
    "    if torch.cuda.is_available()\n",
    "    else \"mps\"\n",
    "    if torch.backends.mps.is_available()\n",
    "    else \"cpu\"\n",
    ")\n",
    "print(f\"Using {device} device\")\n",
    "\n",
    "class DuelingDeepQNetwork(nn.Module):\n",
    "    def __init__(self, n_actions, Increase):\n",
    "        super(DuelingDeepQNetwork, self).__init__()\n",
    "        self.conv1 = nn.Conv2d(3, 16, kernel_size=3, padding=1)\n",
    "        self.conv2 = nn.Conv2d(16, 8, kernel_size=3, padding=1)\n",
    "        self.conv3 = nn.Conv2d(8, 4, kernel_size=3, padding=1)\n",
    "        self.conv4 = nn.Conv2d(4, 1, kernel_size=3, padding=1)\n",
    "        self.flatten = nn.Flatten()\n",
    "\n",
    "    def forward(self, state):\n",
    "        x = F.relu(self.conv1(state))\n",
    "        x = F.relu(self.conv2(x))\n",
    "        x = F.relu(self.conv3(x))\n",
    "        x = F.relu(self.conv4(x))\n",
    "        x = self.flatten(x)\n",
    "\n",
    "        #V = self.model_V(x)\n",
    "        #A = self.model_A(x)\n",
    "        \n",
    "        Q = x #V + (A - A.mean(dim=1, keepdim=True))\n",
    "        return Q\n",
    "    \n",
    "class CustomPolicy(ActorCriticPolicy):\n",
    "    def __init__(self, observation_space, action_space, lr_schedule, net_arch=None, activation_fn=None, *args, **kwargs):\n",
    "        super(CustomPolicy, self).__init__(observation_space, action_space, lr_schedule, net_arch, activation_fn, *args, **kwargs)\n",
    "\n",
    "        # Replace the feature extractor\n",
    "        self.features_extractor = CustomNetwork(observation_space, action_space)    "
   ]
  },
  {
   "cell_type": "code",
   "execution_count": null,
   "metadata": {},
   "outputs": [],
   "source": [
    "args = get_args(*mbb_beam())\n",
    "matrix1 = args.normals[:, :, 0]\n",
    "matrix2 = args.normals[:, :, 1]\n",
    "BC_Nodes = np.logical_or(matrix1, matrix2).astype(int)\n",
    "\n",
    "print(BC_Nodes)"
   ]
  }
 ],
 "metadata": {
  "kernelspec": {
   "display_name": "Python 3",
   "language": "python",
   "name": "python3"
  },
  "language_info": {
   "codemirror_mode": {
    "name": "ipython",
    "version": 3
   },
   "file_extension": ".py",
   "mimetype": "text/x-python",
   "name": "python",
   "nbconvert_exporter": "python",
   "pygments_lexer": "ipython3",
   "version": "3.12.4"
  }
 },
 "nbformat": 4,
 "nbformat_minor": 4
}
