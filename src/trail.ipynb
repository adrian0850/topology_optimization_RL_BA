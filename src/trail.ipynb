{
 "cells": [
  {
   "cell_type": "markdown",
   "metadata": {},
   "source": [
    "# Parameters\n",
    "in this cell the used variables can be changed \n",
    "\n",
    "height and width correspond to the dimensions of the Workspace, in which the Topology Optimisation is going to be performed\n",
    "\n",
    "log_dir is the direction where the current best Model will be saved to during training\n",
    "\n",
    "ts is the amount of timesteps the model will be trained for\n",
    "\n",
    "\n"
   ]
  },
  {
   "cell_type": "code",
   "execution_count": 1,
   "metadata": {},
   "outputs": [],
   "source": [
    "import numpy as np\n",
    "import gymnasium as gym\n",
    "\n",
    "import autograd.numpy as anp\n",
    "\n",
    "from stable_baselines3 import PPO\n",
    "from stable_baselines3.common.env_checker import check_env\n",
    "from stable_baselines3.common.monitor import Monitor\n",
    "from stable_baselines3.common.results_plotter import load_results, ts2xy\n",
    "from stable_baselines3.common.callbacks import BaseCallback\n",
    "from stable_baselines3.common import results_plotter"
   ]
  },
  {
   "cell_type": "markdown",
   "metadata": {},
   "source": [
    "Here the reward for each state of the workspace is the compliance\n",
    "which should be minimized or above a certain threshold\n",
    "\n"
   ]
  },
  {
   "cell_type": "code",
   "execution_count": 2,
   "metadata": {},
   "outputs": [
    {
     "name": "stdout",
     "output_type": "stream",
     "text": [
      "normalsX\n",
      "[[0. 0. 0. 0. 0. 0. 0. 0. 0. 0. 0. 0. 0. 0. 0. 0. 0. 0. 0.]\n",
      " [0. 0. 0. 0. 0. 0. 0. 0. 0. 0. 0. 0. 0. 0. 0. 0. 0. 0. 0.]\n",
      " [0. 0. 0. 0. 0. 0. 0. 0. 0. 0. 0. 0. 0. 0. 0. 0. 0. 0. 0.]\n",
      " [0. 0. 0. 0. 0. 0. 0. 0. 0. 0. 0. 0. 0. 0. 0. 0. 0. 0. 0.]\n",
      " [0. 0. 0. 0. 0. 0. 0. 0. 0. 0. 0. 0. 0. 0. 0. 0. 0. 0. 0.]\n",
      " [0. 0. 0. 0. 0. 0. 0. 0. 0. 0. 0. 0. 0. 0. 0. 0. 0. 0. 0.]\n",
      " [0. 0. 0. 0. 0. 0. 0. 0. 0. 0. 0. 0. 0. 0. 0. 0. 0. 0. 0.]\n",
      " [0. 0. 0. 0. 0. 0. 0. 0. 0. 0. 0. 0. 0. 0. 0. 0. 0. 0. 0.]\n",
      " [0. 0. 0. 0. 0. 0. 0. 0. 0. 0. 0. 0. 0. 0. 0. 0. 0. 0. 0.]\n",
      " [0. 0. 0. 0. 0. 0. 0. 0. 0. 0. 0. 0. 0. 0. 0. 0. 0. 0. 0.]\n",
      " [0. 0. 0. 0. 0. 0. 0. 0. 0. 0. 0. 0. 0. 0. 0. 0. 0. 0. 0.]\n",
      " [0. 0. 0. 0. 0. 0. 0. 0. 0. 0. 0. 0. 0. 0. 0. 0. 0. 0. 0.]\n",
      " [0. 0. 0. 0. 0. 0. 0. 0. 0. 0. 0. 0. 0. 0. 0. 0. 0. 0. 0.]]\n",
      "normalsY\n",
      "[[0. 0. 0. 0. 0. 0. 0. 0. 0. 0. 0. 0. 0. 0. 0. 0. 0. 0. 0.]\n",
      " [0. 0. 0. 0. 0. 0. 0. 0. 0. 0. 0. 0. 0. 0. 0. 0. 0. 0. 0.]\n",
      " [0. 0. 0. 0. 0. 0. 0. 0. 0. 0. 0. 0. 0. 0. 0. 0. 0. 0. 0.]\n",
      " [0. 0. 0. 0. 0. 0. 0. 0. 0. 0. 0. 0. 0. 0. 0. 0. 0. 0. 0.]\n",
      " [0. 0. 0. 0. 0. 0. 0. 0. 0. 0. 0. 0. 0. 0. 0. 0. 0. 0. 0.]\n",
      " [0. 0. 0. 0. 0. 0. 0. 0. 0. 0. 0. 0. 0. 0. 0. 0. 0. 0. 0.]\n",
      " [0. 0. 0. 0. 0. 0. 0. 0. 0. 0. 0. 0. 0. 0. 0. 0. 0. 0. 0.]\n",
      " [0. 0. 0. 0. 0. 0. 0. 0. 0. 0. 0. 0. 0. 0. 0. 0. 0. 0. 0.]\n",
      " [0. 0. 0. 0. 0. 0. 0. 0. 0. 0. 0. 0. 0. 0. 0. 0. 0. 0. 0.]\n",
      " [0. 0. 0. 0. 0. 0. 0. 0. 0. 0. 0. 0. 0. 0. 0. 0. 0. 0. 0.]\n",
      " [0. 0. 0. 0. 0. 0. 0. 0. 0. 0. 0. 0. 0. 0. 0. 0. 0. 0. 0.]\n",
      " [0. 0. 0. 0. 0. 0. 0. 0. 0. 0. 0. 0. 0. 0. 0. 0. 0. 0. 0.]\n",
      " [0. 0. 0. 0. 0. 0. 0. 0. 0. 0. 0. 0. 0. 0. 0. 0. 0. 0. 0.]]\n"
     ]
    }
   ],
   "source": [
    "height = 13\n",
    "width = 19\n",
    "log_dir = \"log\"\n",
    "ts = 1e6\n",
    "\n",
    "density = 1e-4\n",
    "\n",
    "\n",
    "normals = np.zeros((height, width, 2))\n",
    "x = 0\n",
    "y = 1\n",
    "print(\"normalsX\\n\" + str(normals[:,:,x]))\n",
    "print(\"normalsY\\n\" + str(normals[:,:,y]))\n",
    "\n",
    "\n",
    "\n",
    "number_of_nodes = height * width"
   ]
  },
  {
   "cell_type": "code",
   "execution_count": 3,
   "metadata": {},
   "outputs": [],
   "source": [
    "class ObjectView(object):\n",
    "    def __init__(self, d): self.__dict__ = d\n",
    "    \n",
    "def get_args(normals, forces, density=1e-4):  # Manage the problem setup parameters\n",
    "    width = normals.shape[0] - 1\n",
    "    height = normals.shape[1] - 1\n",
    "    fixdofs = np.flatnonzero(normals.ravel())\n",
    "    alldofs = np.arange(2 * (width + 1) * (height + 1))\n",
    "    freedofs = np.sort(list(set(alldofs) - set(fixdofs)))\n",
    "    params = {\n",
    "      # material properties\n",
    "      'young': 1, 'young_min': 1e-9, 'poisson': 0.3, 'g': 0,\n",
    "      # constraints\n",
    "      'density': density, 'xmin': 0.001, 'xmax': 1.0,\n",
    "      # input parameters\n",
    "      'nelx': width, 'nely': height, 'mask': 1, 'penal': 3.0, 'filter_width': 1,\n",
    "      'freedofs': freedofs, 'fixdofs': fixdofs, 'forces': forces.ravel(),\n",
    "      # optimization parameters\n",
    "      'opt_steps': 80, 'print_every': 10}\n",
    "    return ObjectView(params)\n",
    "\n",
    "def mbb_beam(width=7, height=7, density=1e-4, y=1, x=0, rd=-1):  # textbook beam example\n",
    "    normals = np.zeros((width + 1, height + 1, 2))\n",
    "    normals[0, 0, x] = 1\n",
    "    normals[0, 0, y] = 1\n",
    "    normals[0, -1, x] = 1\n",
    "    normals[0, -1, y] = 1\n",
    "    forces = np.zeros((width + 1, height + 1, 2))\n",
    "    forces[-1, rd, y] = -1\n",
    "    return normals, forces, density"
   ]
  },
  {
   "cell_type": "code",
   "execution_count": 4,
   "metadata": {},
   "outputs": [],
   "source": [
    "# TODO write the function to get the reward\n",
    "# It should return the compliance of the structure\n",
    "# The compliance is the sum of the forces applied to the structure\n",
    "# multiplied by the displacement of the nodes\n",
    "# The goal of the \n",
    "def rewardFunction(state):\n",
    "    return 1"
   ]
  },
  {
   "cell_type": "code",
   "execution_count": 5,
   "metadata": {},
   "outputs": [],
   "source": [
    "class TopOptEnv(gym.Env):\n",
    "    metadata = {\"render_modes\": [\"human\", \"rgb_array\"], \"render_fps\": 4}\n",
    "\n",
    "    def __init__(self):\n",
    "\n",
    "        super().__init__()\n",
    "        self.design_space = anp.ones((height, width)) * density\n",
    "\n",
    "    \n",
    "        self.action_space = gym.spaces.Discrete(number_of_nodes)\n",
    "        self.observation_space = gym.spaces.Box(low=0, high=1, shape=(height, width), dtype=np.float64)\n",
    "\n",
    "        self.n, self.m = self.design_space.shape\n",
    "        print(\"self.n:\\t\" + str(self.n) + \"\\nself.m:\\t\" + str(self.m))\n",
    "        self._actions_to_coordinates={} \n",
    "    \n",
    "        k=0\n",
    "        for i in range(self.n):\n",
    "            for j in range(self.m):\n",
    "                self._actions_to_coordinates[k]=(i,j)\n",
    "                k+=1\n",
    "        print(self._actions_to_coordinates)\n",
    "        self.reward = 0\n",
    "        self.step_count = 0\n",
    "\n",
    "    def step(self, action):\n",
    "        #\n",
    "        # TODO finisch the step function for the environment\t\n",
    "        # we need to add the reward function and the termination condition\n",
    "        #\n",
    "        #\n",
    "        # action is the index of the node that is going to be changed\n",
    "        # action is a number between 0 and number_of_nodes\n",
    "\n",
    "        self.step_count += 1\n",
    "        \n",
    "\n",
    "\n",
    "        self.reward = rewardFunction(self.design_space)\n",
    "        return self.design_space, self.reward, terminated, False, self._getInfo()\n",
    "    \n",
    "\n",
    "    def reset(self, seed=None):\n",
    "        # Reset the environment\n",
    "        # This function returns the initial state of the environment\n",
    "        # The initial state should be a 2D array of size (height, width)\n",
    "        #\n",
    "        #TODO: add a way to introduce Randomness to the Forces applied in the Design space\n",
    "        #\n",
    "\n",
    "        super().reset(seed=seed)\n",
    "        self.step_count = 0\n",
    "        self.design_space = anp.ones((height, width)) * density\n",
    "\n",
    "\n",
    "        return self.design_space, self._getInfo()\n",
    "    \n",
    "    def _getInfo(self):\n",
    "        # This function returns the information about the environment\n",
    "        # This function is used to monitor the environment\n",
    "        # The information should be a dictionary\n",
    "        # The dictionary should contain the following keys:\n",
    "        # - step_count: the number of steps that have been executed\n",
    "        # - current Reward: the reward of the current state\n",
    "        # - design_space: the current state of the environment\n",
    "        return {\"step_count\": self.step_count, \n",
    "                \"current Reward\": self.reward,\n",
    "                \"design_space\": self.design_space}\n",
    "\n",
    "\n",
    "    \n",
    "\n",
    "        \n"
   ]
  },
  {
   "cell_type": "code",
   "execution_count": 6,
   "metadata": {},
   "outputs": [
    {
     "name": "stdout",
     "output_type": "stream",
     "text": [
      "self.n:\t13\n",
      "self.m:\t19\n",
      "{0: (0, 0), 1: (0, 1), 2: (0, 2), 3: (0, 3), 4: (0, 4), 5: (0, 5), 6: (0, 6), 7: (0, 7), 8: (0, 8), 9: (0, 9), 10: (0, 10), 11: (0, 11), 12: (0, 12), 13: (0, 13), 14: (0, 14), 15: (0, 15), 16: (0, 16), 17: (0, 17), 18: (0, 18), 19: (1, 0), 20: (1, 1), 21: (1, 2), 22: (1, 3), 23: (1, 4), 24: (1, 5), 25: (1, 6), 26: (1, 7), 27: (1, 8), 28: (1, 9), 29: (1, 10), 30: (1, 11), 31: (1, 12), 32: (1, 13), 33: (1, 14), 34: (1, 15), 35: (1, 16), 36: (1, 17), 37: (1, 18), 38: (2, 0), 39: (2, 1), 40: (2, 2), 41: (2, 3), 42: (2, 4), 43: (2, 5), 44: (2, 6), 45: (2, 7), 46: (2, 8), 47: (2, 9), 48: (2, 10), 49: (2, 11), 50: (2, 12), 51: (2, 13), 52: (2, 14), 53: (2, 15), 54: (2, 16), 55: (2, 17), 56: (2, 18), 57: (3, 0), 58: (3, 1), 59: (3, 2), 60: (3, 3), 61: (3, 4), 62: (3, 5), 63: (3, 6), 64: (3, 7), 65: (3, 8), 66: (3, 9), 67: (3, 10), 68: (3, 11), 69: (3, 12), 70: (3, 13), 71: (3, 14), 72: (3, 15), 73: (3, 16), 74: (3, 17), 75: (3, 18), 76: (4, 0), 77: (4, 1), 78: (4, 2), 79: (4, 3), 80: (4, 4), 81: (4, 5), 82: (4, 6), 83: (4, 7), 84: (4, 8), 85: (4, 9), 86: (4, 10), 87: (4, 11), 88: (4, 12), 89: (4, 13), 90: (4, 14), 91: (4, 15), 92: (4, 16), 93: (4, 17), 94: (4, 18), 95: (5, 0), 96: (5, 1), 97: (5, 2), 98: (5, 3), 99: (5, 4), 100: (5, 5), 101: (5, 6), 102: (5, 7), 103: (5, 8), 104: (5, 9), 105: (5, 10), 106: (5, 11), 107: (5, 12), 108: (5, 13), 109: (5, 14), 110: (5, 15), 111: (5, 16), 112: (5, 17), 113: (5, 18), 114: (6, 0), 115: (6, 1), 116: (6, 2), 117: (6, 3), 118: (6, 4), 119: (6, 5), 120: (6, 6), 121: (6, 7), 122: (6, 8), 123: (6, 9), 124: (6, 10), 125: (6, 11), 126: (6, 12), 127: (6, 13), 128: (6, 14), 129: (6, 15), 130: (6, 16), 131: (6, 17), 132: (6, 18), 133: (7, 0), 134: (7, 1), 135: (7, 2), 136: (7, 3), 137: (7, 4), 138: (7, 5), 139: (7, 6), 140: (7, 7), 141: (7, 8), 142: (7, 9), 143: (7, 10), 144: (7, 11), 145: (7, 12), 146: (7, 13), 147: (7, 14), 148: (7, 15), 149: (7, 16), 150: (7, 17), 151: (7, 18), 152: (8, 0), 153: (8, 1), 154: (8, 2), 155: (8, 3), 156: (8, 4), 157: (8, 5), 158: (8, 6), 159: (8, 7), 160: (8, 8), 161: (8, 9), 162: (8, 10), 163: (8, 11), 164: (8, 12), 165: (8, 13), 166: (8, 14), 167: (8, 15), 168: (8, 16), 169: (8, 17), 170: (8, 18), 171: (9, 0), 172: (9, 1), 173: (9, 2), 174: (9, 3), 175: (9, 4), 176: (9, 5), 177: (9, 6), 178: (9, 7), 179: (9, 8), 180: (9, 9), 181: (9, 10), 182: (9, 11), 183: (9, 12), 184: (9, 13), 185: (9, 14), 186: (9, 15), 187: (9, 16), 188: (9, 17), 189: (9, 18), 190: (10, 0), 191: (10, 1), 192: (10, 2), 193: (10, 3), 194: (10, 4), 195: (10, 5), 196: (10, 6), 197: (10, 7), 198: (10, 8), 199: (10, 9), 200: (10, 10), 201: (10, 11), 202: (10, 12), 203: (10, 13), 204: (10, 14), 205: (10, 15), 206: (10, 16), 207: (10, 17), 208: (10, 18), 209: (11, 0), 210: (11, 1), 211: (11, 2), 212: (11, 3), 213: (11, 4), 214: (11, 5), 215: (11, 6), 216: (11, 7), 217: (11, 8), 218: (11, 9), 219: (11, 10), 220: (11, 11), 221: (11, 12), 222: (11, 13), 223: (11, 14), 224: (11, 15), 225: (11, 16), 226: (11, 17), 227: (11, 18), 228: (12, 0), 229: (12, 1), 230: (12, 2), 231: (12, 3), 232: (12, 4), 233: (12, 5), 234: (12, 6), 235: (12, 7), 236: (12, 8), 237: (12, 9), 238: (12, 10), 239: (12, 11), 240: (12, 12), 241: (12, 13), 242: (12, 14), 243: (12, 15), 244: (12, 16), 245: (12, 17), 246: (12, 18)}\n"
     ]
    },
    {
     "name": "stderr",
     "output_type": "stream",
     "text": [
      "c:\\Users\\adria\\AppData\\Local\\Programs\\Python\\Python312\\Lib\\site-packages\\stable_baselines3\\common\\env_checker.py:263: UserWarning: Your observation  has an unconventional shape (neither an image, nor a 1D vector). We recommend you to flatten the observation to have only a 1D vector or use a custom policy to properly process the data.\n",
      "  warnings.warn(\n"
     ]
    },
    {
     "ename": "NameError",
     "evalue": "name 'terminated' is not defined",
     "output_type": "error",
     "traceback": [
      "\u001b[1;31m---------------------------------------------------------------------------\u001b[0m",
      "\u001b[1;31mNameError\u001b[0m                                 Traceback (most recent call last)",
      "Cell \u001b[1;32mIn[6], line 2\u001b[0m\n\u001b[0;32m      1\u001b[0m env \u001b[38;5;241m=\u001b[39m TopOptEnv()\n\u001b[1;32m----> 2\u001b[0m \u001b[43mcheck_env\u001b[49m\u001b[43m(\u001b[49m\u001b[43menv\u001b[49m\u001b[43m,\u001b[49m\u001b[43m \u001b[49m\u001b[43mwarn\u001b[49m\u001b[38;5;241;43m=\u001b[39;49m\u001b[38;5;28;43;01mTrue\u001b[39;49;00m\u001b[43m)\u001b[49m\n",
      "File \u001b[1;32mc:\\Users\\adria\\AppData\\Local\\Programs\\Python\\Python312\\Lib\\site-packages\\stable_baselines3\\common\\env_checker.py:473\u001b[0m, in \u001b[0;36mcheck_env\u001b[1;34m(env, warn, skip_render_check)\u001b[0m\n\u001b[0;32m    470\u001b[0m     \u001b[38;5;28;01mreturn\u001b[39;00m\n\u001b[0;32m    472\u001b[0m \u001b[38;5;66;03m# ============ Check the returned values ===============\u001b[39;00m\n\u001b[1;32m--> 473\u001b[0m \u001b[43m_check_returned_values\u001b[49m\u001b[43m(\u001b[49m\u001b[43menv\u001b[49m\u001b[43m,\u001b[49m\u001b[43m \u001b[49m\u001b[43mobservation_space\u001b[49m\u001b[43m,\u001b[49m\u001b[43m \u001b[49m\u001b[43maction_space\u001b[49m\u001b[43m)\u001b[49m\n\u001b[0;32m    475\u001b[0m \u001b[38;5;66;03m# ==== Check the render method and the declared render modes ====\u001b[39;00m\n\u001b[0;32m    476\u001b[0m \u001b[38;5;28;01mif\u001b[39;00m \u001b[38;5;129;01mnot\u001b[39;00m skip_render_check:\n",
      "File \u001b[1;32mc:\\Users\\adria\\AppData\\Local\\Programs\\Python\\Python312\\Lib\\site-packages\\stable_baselines3\\common\\env_checker.py:304\u001b[0m, in \u001b[0;36m_check_returned_values\u001b[1;34m(env, observation_space, action_space)\u001b[0m\n\u001b[0;32m    302\u001b[0m \u001b[38;5;66;03m# Sample a random action\u001b[39;00m\n\u001b[0;32m    303\u001b[0m action \u001b[38;5;241m=\u001b[39m action_space\u001b[38;5;241m.\u001b[39msample()\n\u001b[1;32m--> 304\u001b[0m data \u001b[38;5;241m=\u001b[39m \u001b[43menv\u001b[49m\u001b[38;5;241;43m.\u001b[39;49m\u001b[43mstep\u001b[49m\u001b[43m(\u001b[49m\u001b[43maction\u001b[49m\u001b[43m)\u001b[49m\n\u001b[0;32m    306\u001b[0m \u001b[38;5;28;01massert\u001b[39;00m \u001b[38;5;28mlen\u001b[39m(data) \u001b[38;5;241m==\u001b[39m \u001b[38;5;241m5\u001b[39m, (\n\u001b[0;32m    307\u001b[0m     \u001b[38;5;124m\"\u001b[39m\u001b[38;5;124mThe `step()` method must return five values: \u001b[39m\u001b[38;5;124m\"\u001b[39m\n\u001b[0;32m    308\u001b[0m     \u001b[38;5;124mf\u001b[39m\u001b[38;5;124m\"\u001b[39m\u001b[38;5;124mobs, reward, terminated, truncated, info. Actual: \u001b[39m\u001b[38;5;132;01m{\u001b[39;00m\u001b[38;5;28mlen\u001b[39m(data)\u001b[38;5;132;01m}\u001b[39;00m\u001b[38;5;124m values returned.\u001b[39m\u001b[38;5;124m\"\u001b[39m\n\u001b[0;32m    309\u001b[0m )\n\u001b[0;32m    311\u001b[0m \u001b[38;5;66;03m# Unpack\u001b[39;00m\n",
      "Cell \u001b[1;32mIn[5], line 40\u001b[0m, in \u001b[0;36mTopOptEnv.step\u001b[1;34m(self, action)\u001b[0m\n\u001b[0;32m     35\u001b[0m \u001b[38;5;28mself\u001b[39m\u001b[38;5;241m.\u001b[39mstep_count \u001b[38;5;241m+\u001b[39m\u001b[38;5;241m=\u001b[39m \u001b[38;5;241m1\u001b[39m\n\u001b[0;32m     39\u001b[0m \u001b[38;5;28mself\u001b[39m\u001b[38;5;241m.\u001b[39mreward \u001b[38;5;241m=\u001b[39m rewardFunction(\u001b[38;5;28mself\u001b[39m\u001b[38;5;241m.\u001b[39mdesign_space)\n\u001b[1;32m---> 40\u001b[0m \u001b[38;5;28;01mreturn\u001b[39;00m \u001b[38;5;28mself\u001b[39m\u001b[38;5;241m.\u001b[39mdesign_space, \u001b[38;5;28mself\u001b[39m\u001b[38;5;241m.\u001b[39mreward, \u001b[43mterminated\u001b[49m, \u001b[38;5;28;01mFalse\u001b[39;00m, \u001b[38;5;28mself\u001b[39m\u001b[38;5;241m.\u001b[39m_getInfo()\n",
      "\u001b[1;31mNameError\u001b[0m: name 'terminated' is not defined"
     ]
    }
   ],
   "source": [
    "env = TopOptEnv()\n",
    "check_env(env, warn=True)"
   ]
  }
 ],
 "metadata": {
  "kernelspec": {
   "display_name": "Python 3",
   "language": "python",
   "name": "python3"
  },
  "language_info": {
   "codemirror_mode": {
    "name": "ipython",
    "version": 3
   },
   "file_extension": ".py",
   "mimetype": "text/x-python",
   "name": "python",
   "nbconvert_exporter": "python",
   "pygments_lexer": "ipython3",
   "version": "3.12.3"
  }
 },
 "nbformat": 4,
 "nbformat_minor": 2
}
