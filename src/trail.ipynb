{
 "cells": [
  {
   "cell_type": "markdown",
   "metadata": {},
   "source": [
    "# Parameters\n",
    "in this cell the used variables can be changed \n",
    "\n",
    "height and width correspond to the dimensions of the Workspace, in which the Topology Optimisation is going to be performed\n",
    "\n",
    "log_dir is the direction where the current best Model will be saved to during training\n",
    "\n",
    "ts is the amount of timesteps the model will be trained for\n",
    "\n",
    "\n"
   ]
  },
  {
   "cell_type": "code",
   "execution_count": 20,
   "metadata": {},
   "outputs": [],
   "source": [
    "import numpy as np\n",
    "import gymnasium as gym\n",
    "\n",
    "import autograd.numpy as anp\n",
    "\n",
    "from stable_baselines3 import PPO\n",
    "from stable_baselines3.common.env_checker import check_env\n",
    "from stable_baselines3.common.monitor import Monitor\n",
    "from stable_baselines3.common.results_plotter import load_results, ts2xy\n",
    "from stable_baselines3.common.callbacks import BaseCallback\n",
    "from stable_baselines3.common import results_plotter"
   ]
  },
  {
   "cell_type": "code",
   "execution_count": 2,
   "metadata": {},
   "outputs": [
    {
     "name": "stdout",
     "output_type": "stream",
     "text": [
      "normalsX\n",
      "[[0. 0. 0. 0. 0. 0. 0. 0. 0. 0. 0. 0. 0. 0. 0. 0. 0. 0. 0. 0.]\n",
      " [0. 0. 0. 0. 0. 0. 0. 0. 0. 0. 0. 0. 0. 0. 0. 0. 0. 0. 0. 0.]\n",
      " [0. 0. 0. 0. 0. 0. 0. 0. 0. 0. 0. 0. 0. 0. 0. 0. 0. 0. 0. 0.]\n",
      " [0. 0. 0. 0. 0. 0. 0. 0. 0. 0. 0. 0. 0. 0. 0. 0. 0. 0. 0. 0.]\n",
      " [0. 0. 0. 0. 0. 0. 0. 0. 0. 0. 0. 0. 0. 0. 0. 0. 0. 0. 0. 0.]\n",
      " [0. 0. 0. 0. 0. 0. 0. 0. 0. 0. 0. 0. 0. 0. 0. 0. 0. 0. 0. 0.]]\n",
      "normalsY\n",
      "[[0. 0. 0. 0. 0. 0. 0. 0. 0. 0. 0. 0. 0. 0. 0. 0. 0. 0. 0. 0.]\n",
      " [0. 0. 0. 0. 0. 0. 0. 0. 0. 0. 0. 0. 0. 0. 0. 0. 0. 0. 0. 0.]\n",
      " [0. 0. 0. 0. 0. 0. 0. 0. 0. 0. 0. 0. 0. 0. 0. 0. 0. 0. 0. 0.]\n",
      " [0. 0. 0. 0. 0. 0. 0. 0. 0. 0. 0. 0. 0. 0. 0. 0. 0. 0. 0. 0.]\n",
      " [0. 0. 0. 0. 0. 0. 0. 0. 0. 0. 0. 0. 0. 0. 0. 0. 0. 0. 0. 0.]\n",
      " [0. 0. 0. 0. 0. 0. 0. 0. 0. 0. 0. 0. 0. 0. 0. 0. 0. 0. 0. 0.]]\n"
     ]
    }
   ],
   "source": [
    "height = 6\n",
    "width = 20\n",
    "log_dir = \"log\"\n",
    "ts = 1e6\n",
    "\n",
    "density = 1e-4\n",
    "\n",
    "\n",
    "normals = np.zeros((height, width, 2))\n",
    "x = 0\n",
    "y = 1\n",
    "print(\"normalsX\\n\" + str(normals[:,:,x]))\n",
    "print(\"normalsY\\n\" + str(normals[:,:,y]))\n",
    "\n",
    "\n",
    "\n",
    "number_of_nodes = height * width"
   ]
  },
  {
   "cell_type": "code",
   "execution_count": null,
   "metadata": {},
   "outputs": [],
   "source": [
    "class ObjectView(object):\n",
    "    def __init__(self, d): self.__dict__ = d\n",
    "    \n",
    "def get_args(normals, forces, density=1e-4):  # Manage the problem setup parameters\n",
    "    width = normals.shape[0] - 1\n",
    "    height = normals.shape[1] - 1\n",
    "    fixdofs = np.flatnonzero(normals.ravel())\n",
    "    alldofs = np.arange(2 * (width + 1) * (height + 1))\n",
    "    freedofs = np.sort(list(set(alldofs) - set(fixdofs)))\n",
    "    params = {\n",
    "      # material properties\n",
    "      'young': 1, 'young_min': 1e-9, 'poisson': 0.3, 'g': 0,\n",
    "      # constraints\n",
    "      'density': density, 'xmin': 0.001, 'xmax': 1.0,\n",
    "      # input parameters\n",
    "      'nelx': width, 'nely': height, 'mask': 1, 'penal': 3.0, 'filter_width': 1,\n",
    "      'freedofs': freedofs, 'fixdofs': fixdofs, 'forces': forces.ravel(),\n",
    "      # optimization parameters\n",
    "      'opt_steps': 80, 'print_every': 10}\n",
    "    return ObjectView(params)\n",
    "\n",
    "def mbb_beam(width=7, height=7, density=1e-4, y=1, x=0, rd=-1):  # textbook beam example\n",
    "    normals = np.zeros((width + 1, height + 1, 2))\n",
    "    normals[0, 0, x] = 1\n",
    "    normals[0, 0, y] = 1\n",
    "    normals[0, -1, x] = 1\n",
    "    normals[0, -1, y] = 1\n",
    "    forces = np.zeros((width + 1, height + 1, 2))\n",
    "    forces[-1, rd, y] = -1\n",
    "    return normals, forces, density"
   ]
  },
  {
   "cell_type": "code",
   "execution_count": 41,
   "metadata": {},
   "outputs": [],
   "source": [
    "class TopOptEnv(gym.Env):\n",
    "    metadata = {\"render_modes\": [\"human\", \"rgb_array\"], \"render_fps\": 4}\n",
    "\n",
    "    def __init__(self):\n",
    "        super().__init__()\n",
    "        self.workspace = anp.ones((height, width)) * density\n",
    "\n",
    "    \n",
    "        self.action_space = gym.spaces.Discrete(number_of_nodes)\n",
    "        self.observation_space = gym.spaces.Box(low=0, high=1, shape=(height, width, 3), dtype=np.float64)\n",
    "\n",
    "        self.n, self.m = self.workspace.shape\n",
    "        print(\"self.n:\\t\" + str(self.n) + \"\\nself.m:\\t\" + str(self.m))\n",
    "        self._actions_to_coordinates={} \n",
    "    \n",
    "        k=0\n",
    "        for i in range(self.n):\n",
    "            for j in range(self.m):\n",
    "                self._actions_to_coordinates[k]=(i,j)\n",
    "                k+=1\n",
    "        print(self._actions_to_coordinates)\n",
    "        self.reward = 0\n",
    "        self.step_count = 0\n",
    "\n",
    "    def step(self, action):\n",
    "        self.step_count += 1\n",
    "        \n",
    "\n",
    "        self.tmp, self.const = fast_stopt(self.args, self.x)\n",
    "\n",
    "        self.reward = rewardFunc(self.workspace)\n",
    "        return self.workspace, self.reward, self.step, {}\n",
    "    \n",
    "\n",
    "    def reset(self, seed=None):\n",
    "        super().reset(seed=seed)\n",
    "\n",
    "        self.workspace = anp.ones((height, width)) * density\n",
    "        print(self.workspace.reshape(self.workspace.shape[0] * self.workspace.shape[1]))\n",
    "\n",
    "        # Flattens the array from a 2D array into a one dimensional array for the observation space\n",
    "\n",
    "        return self.workspace.reshape(self.workspace.shape[0] * self.workspace.shape[1]), self._getInfo()\n",
    "    \n",
    "    def _getInfo(self):\n",
    "        return {\"number of steps\": self.step_count, \n",
    "                \"current Reward\": self.reward,\n",
    "                \"Workspace\": self.workspace}\n",
    "\n",
    "\n",
    "    \n",
    "\n",
    "        \n"
   ]
  },
  {
   "cell_type": "code",
   "execution_count": 42,
   "metadata": {},
   "outputs": [
    {
     "name": "stdout",
     "output_type": "stream",
     "text": [
      "self.n:\t6\n",
      "self.m:\t20\n",
      "{0: (0, 0), 1: (0, 1), 2: (0, 2), 3: (0, 3), 4: (0, 4), 5: (0, 5), 6: (0, 6), 7: (0, 7), 8: (0, 8), 9: (0, 9), 10: (0, 10), 11: (0, 11), 12: (0, 12), 13: (0, 13), 14: (0, 14), 15: (0, 15), 16: (0, 16), 17: (0, 17), 18: (0, 18), 19: (0, 19), 20: (1, 0), 21: (1, 1), 22: (1, 2), 23: (1, 3), 24: (1, 4), 25: (1, 5), 26: (1, 6), 27: (1, 7), 28: (1, 8), 29: (1, 9), 30: (1, 10), 31: (1, 11), 32: (1, 12), 33: (1, 13), 34: (1, 14), 35: (1, 15), 36: (1, 16), 37: (1, 17), 38: (1, 18), 39: (1, 19), 40: (2, 0), 41: (2, 1), 42: (2, 2), 43: (2, 3), 44: (2, 4), 45: (2, 5), 46: (2, 6), 47: (2, 7), 48: (2, 8), 49: (2, 9), 50: (2, 10), 51: (2, 11), 52: (2, 12), 53: (2, 13), 54: (2, 14), 55: (2, 15), 56: (2, 16), 57: (2, 17), 58: (2, 18), 59: (2, 19), 60: (3, 0), 61: (3, 1), 62: (3, 2), 63: (3, 3), 64: (3, 4), 65: (3, 5), 66: (3, 6), 67: (3, 7), 68: (3, 8), 69: (3, 9), 70: (3, 10), 71: (3, 11), 72: (3, 12), 73: (3, 13), 74: (3, 14), 75: (3, 15), 76: (3, 16), 77: (3, 17), 78: (3, 18), 79: (3, 19), 80: (4, 0), 81: (4, 1), 82: (4, 2), 83: (4, 3), 84: (4, 4), 85: (4, 5), 86: (4, 6), 87: (4, 7), 88: (4, 8), 89: (4, 9), 90: (4, 10), 91: (4, 11), 92: (4, 12), 93: (4, 13), 94: (4, 14), 95: (4, 15), 96: (4, 16), 97: (4, 17), 98: (4, 18), 99: (4, 19), 100: (5, 0), 101: (5, 1), 102: (5, 2), 103: (5, 3), 104: (5, 4), 105: (5, 5), 106: (5, 6), 107: (5, 7), 108: (5, 8), 109: (5, 9), 110: (5, 10), 111: (5, 11), 112: (5, 12), 113: (5, 13), 114: (5, 14), 115: (5, 15), 116: (5, 16), 117: (5, 17), 118: (5, 18), 119: (5, 19)}\n",
      "{'number of steps': 0, 'current Reward': 0, 'Workspace': array([[0.0001, 0.0001, 0.0001, 0.0001, 0.0001, 0.0001, 0.0001, 0.0001,\n",
      "        0.0001, 0.0001, 0.0001, 0.0001, 0.0001, 0.0001, 0.0001, 0.0001,\n",
      "        0.0001, 0.0001, 0.0001, 0.0001],\n",
      "       [0.0001, 0.0001, 0.0001, 0.0001, 0.0001, 0.0001, 0.0001, 0.0001,\n",
      "        0.0001, 0.0001, 0.0001, 0.0001, 0.0001, 0.0001, 0.0001, 0.0001,\n",
      "        0.0001, 0.0001, 0.0001, 0.0001],\n",
      "       [0.0001, 0.0001, 0.0001, 0.0001, 0.0001, 0.0001, 0.0001, 0.0001,\n",
      "        0.0001, 0.0001, 0.0001, 0.0001, 0.0001, 0.0001, 0.0001, 0.0001,\n",
      "        0.0001, 0.0001, 0.0001, 0.0001],\n",
      "       [0.0001, 0.0001, 0.0001, 0.0001, 0.0001, 0.0001, 0.0001, 0.0001,\n",
      "        0.0001, 0.0001, 0.0001, 0.0001, 0.0001, 0.0001, 0.0001, 0.0001,\n",
      "        0.0001, 0.0001, 0.0001, 0.0001],\n",
      "       [0.0001, 0.0001, 0.0001, 0.0001, 0.0001, 0.0001, 0.0001, 0.0001,\n",
      "        0.0001, 0.0001, 0.0001, 0.0001, 0.0001, 0.0001, 0.0001, 0.0001,\n",
      "        0.0001, 0.0001, 0.0001, 0.0001],\n",
      "       [0.0001, 0.0001, 0.0001, 0.0001, 0.0001, 0.0001, 0.0001, 0.0001,\n",
      "        0.0001, 0.0001, 0.0001, 0.0001, 0.0001, 0.0001, 0.0001, 0.0001,\n",
      "        0.0001, 0.0001, 0.0001, 0.0001]])}\n"
     ]
    }
   ],
   "source": [
    "env = TopOptEnv()\n",
    "print(env._getInfo())"
   ]
  }
 ],
 "metadata": {
  "kernelspec": {
   "display_name": "Python 3",
   "language": "python",
   "name": "python3"
  },
  "language_info": {
   "codemirror_mode": {
    "name": "ipython",
    "version": 3
   },
   "file_extension": ".py",
   "mimetype": "text/x-python",
   "name": "python",
   "nbconvert_exporter": "python",
   "pygments_lexer": "ipython3",
   "version": "3.12.3"
  }
 },
 "nbformat": 4,
 "nbformat_minor": 2
}
